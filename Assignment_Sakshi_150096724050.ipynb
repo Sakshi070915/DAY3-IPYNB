{
 "cells": [
  {
   "cell_type": "code",
   "execution_count": 1,
   "metadata": {},
   "outputs": [
    {
     "name": "stdout",
     "output_type": "stream",
     "text": [
      "the given number is even\n"
     ]
    }
   ],
   "source": [
    "#1 WAP to check whether a number is even or odd.\n",
    "a = int(input(\"enter a number:\"))\n",
    "if a%2 == 0:\n",
    "    print(\"the given number is even\")\n",
    "else:\n",
    "    print(\"the given number is odd\")\n"
   ]
  },
  {
   "cell_type": "code",
   "execution_count": 3,
   "metadata": {},
   "outputs": [
    {
     "name": "stdout",
     "output_type": "stream",
     "text": [
      "not eligible\n"
     ]
    }
   ],
   "source": [
    "#2 WAP to check whether person is eligible for voting.\n",
    "a = int(input(\"enter the age:\"))\n",
    "if a<18:\n",
    "    print(\"not eligible\")\n",
    "else:\n",
    "    print(\"eligible\")\n"
   ]
  },
  {
   "cell_type": "code",
   "execution_count": 1,
   "metadata": {},
   "outputs": [
    {
     "name": "stdout",
     "output_type": "stream",
     "text": [
      "Saturday\n"
     ]
    }
   ],
   "source": [
    "#3 WAP to enter a number between 1 to 7 as days of a week and print the day accordingly. (Monday, Tuesday ...) using if elif case.\n",
    "a = int(input(\"enter the a number:\"))\n",
    "if a == 1:\n",
    "    print(\"Monday\")\n",
    "elif a == 2:\n",
    "    print(\"Tuesday\")\n",
    "elif a == 3:\n",
    "    print(\"Wednesday\")\n",
    "elif a == 4:\n",
    "    print(\"Thursday\")\n",
    "elif a == 5:\n",
    "    print(\"Friday\")\n",
    "elif a == 6:\n",
    "    print(\"Saturday\")\n",
    "elif a == 7:\n",
    "    print(\"Sunday\")\n",
    "else:\n",
    "    print(\"please enter a number between 1-7\")"
   ]
  },
  {
   "cell_type": "code",
   "execution_count": 3,
   "metadata": {},
   "outputs": [
    {
     "name": "stdout",
     "output_type": "stream",
     "text": [
      "Thursday\n"
     ]
    }
   ],
   "source": [
    "#4 WAP to enter a number between 1 to 7 as days of a week and print the day accordingly. (Monday, Tuesday ...) using match case.\n",
    "num = int(input(\"enter a number\"))\n",
    "match num:\n",
    "    case 1:\n",
    "        print(\"Monday\")\n",
    "\n",
    "    case 2:\n",
    "        print(\"Tuesday\")\n",
    "\n",
    "    case 3:\n",
    "        print(\"Wednesday\")\n",
    "\n",
    "    case 4:\n",
    "        print(\"Thursday\")\n",
    "\n",
    "    case 5:\n",
    "        print(\"Friday\")\n",
    "\n",
    "    case 6:\n",
    "        print(\"Saturday\")\n",
    "\n",
    "    case 7:\n",
    "        print(\"Sunday\")\n",
    "\n",
    "    case _:\n",
    "        print(\"enter a number between 1-7\")"
   ]
  },
  {
   "cell_type": "code",
   "execution_count": 4,
   "metadata": {},
   "outputs": [
    {
     "name": "stdout",
     "output_type": "stream",
     "text": [
      "it's not a leap year\n"
     ]
    }
   ],
   "source": [
    "#5 WAP to check whether a year is a leap year or not. A year is a leap year if “anyone of ” the following conditions are satisfied: \n",
    "# • The year is multiple of 400.\n",
    "# • The year is a multiple of 4 and not a multiple of 100\n",
    "a = int(input(\"enter a number:\"))\n",
    "if a%4 == 0:\n",
    "    if a%100 == 0:\n",
    "        if a%400 == 0:\n",
    "            print(\"it's a leap year\")\n",
    "        else:\n",
    "            print(\"it's not a leap year\")\n",
    "    else:\n",
    "        print(\"it's a leap year\")\n",
    "else:\n",
    "    print(\"it's not a leap year\")"
   ]
  },
  {
   "cell_type": "code",
   "execution_count": 5,
   "metadata": {},
   "outputs": [
    {
     "name": "stdout",
     "output_type": "stream",
     "text": [
      "Grade B\n"
     ]
    }
   ],
   "source": [
    "#6 WAP to calculate to take in the marks of 5 subjects, compute average and display the grade as per following rules:\n",
    "# • average >= 90 : “A\"\n",
    "# • average >= 80 : “B\"\n",
    "# • average >= 70 : “C\"\n",
    "# • average >= 60 : “D”\n",
    "phy = float(input(\"enter a number\"))\n",
    "chem = float(input(\"enter a number\"))\n",
    "maths = float(input(\"enter a number\"))\n",
    "eng = float(input(\"enter a number\"))\n",
    "hindi = float(input(\"enter a number\"))\n",
    "\n",
    "avg = (phy+chem+maths+eng+hindi)/5\n",
    "if avg>=90:\n",
    "    print(\"Grade A\")\n",
    "elif avg>=80:\n",
    "    print(\"Grade B\")\n",
    "elif avg>=70:\n",
    "    print(\"Grade C\")\n",
    "elif avg>=60:\n",
    "    print(\"Grade D\")\n",
    "else:\n",
    "    print(\"Grade F\")"
   ]
  },
  {
   "cell_type": "code",
   "execution_count": 6,
   "metadata": {},
   "outputs": [
    {
     "name": "stdout",
     "output_type": "stream",
     "text": [
      "y is a not a vowel\n"
     ]
    }
   ],
   "source": [
    "#7 WAP to input a character. Check whether the character is vowel or consonant.\n",
    "ch2=input(\"enter a character\")\n",
    "match ch2:\n",
    "    case 'a'|'e'|'i'|'o'|'u':\n",
    "        print(f\"{ch2} is a vowel\")\n",
    "    case _:\n",
    "        print(f\"{ch2} is a not a vowel\")"
   ]
  },
  {
   "cell_type": "code",
   "execution_count": 7,
   "metadata": {},
   "outputs": [
    {
     "name": "stdout",
     "output_type": "stream",
     "text": [
      "70 not found in the list\n"
     ]
    }
   ],
   "source": [
    "#8 WAP to search an element in a list [use for: else clause]\n",
    "a = [10,20,30,40,50]\n",
    "b = int(input(\"Enter the element to search:\"))\n",
    "for i in a:\n",
    "    if i == b:\n",
    "        print(f\"{b} found in the list\")\n",
    "else:\n",
    "    print(f\"{b} not found in the list\")"
   ]
  },
  {
   "cell_type": "code",
   "execution_count": 8,
   "metadata": {},
   "outputs": [
    {
     "name": "stdout",
     "output_type": "stream",
     "text": [
      "Seven\n"
     ]
    }
   ],
   "source": [
    "#9 Write a program to take a single digit number from the key board and print its spelling in English word using if elif.\n",
    "a = int(input(\"Enter a number:\"))\n",
    "if a == 0:\n",
    "    print(\"Zero\")\n",
    "elif a == 1:\n",
    "    print(\"One\")\n",
    "elif a == 2:\n",
    "    print(\"Two\")\n",
    "elif a == 3:\n",
    "    print(\"Three\")\n",
    "elif a == 4:\n",
    "    print(\"Four\")\n",
    "elif a == 5:\n",
    "    print(\"Five\")\n",
    "elif a == 6:\n",
    "    print(\"Six\")\n",
    "elif a == 7:\n",
    "    print(\"Seven\")\n",
    "elif a == 8:\n",
    "    print(\"Eight\")\n",
    "elif a == 9:\n",
    "    print(\"Nine\")\n",
    "else:\n",
    "    print(\"enter a single digit number between 0-9\")"
   ]
  },
  {
   "cell_type": "code",
   "execution_count": 9,
   "metadata": {},
   "outputs": [
    {
     "name": "stdout",
     "output_type": "stream",
     "text": [
      "Number in ascending order: [2, 6, 8]\n"
     ]
    }
   ],
   "source": [
    "#10 WAP to input three numbers and arrange them in ascending numbers.\n",
    "a = int(input(\"Enter a number:\"))\n",
    "b = int(input(\"Enter a number:\"))\n",
    "c = int(input(\"Enter a number:\"))\n",
    "d = [a,b,c]\n",
    "d.sort()\n",
    "print(\"Number in ascending order:\",d)"
   ]
  },
  {
   "cell_type": "code",
   "execution_count": 15,
   "metadata": {},
   "outputs": [
    {
     "name": "stdout",
     "output_type": "stream",
     "text": [
      "Three\n"
     ]
    }
   ],
   "source": [
    "#11 Write a program to take a single digit number from the key board and print its spelling in English word using match case\n",
    "a = int(input(\"Enter a num between 0-9:\"))\n",
    "match a:\n",
    "    case 0:\n",
    "        print(\"Zero\")\n",
    "    case 1:\n",
    "        print(\"One\")\n",
    "    case 2:\n",
    "        print(\"Two\")\n",
    "    case 3:\n",
    "        print(\"Three\")\n",
    "    case 4:\n",
    "        print(\"Four\")\n",
    "    case 5:\n",
    "        print(\"Five\")\n",
    "    case 6:\n",
    "        print(\"Six\")\n",
    "    case 7:\n",
    "        print(\"Seven\")\n",
    "    case 8:\n",
    "        print(\"Eight\")\n",
    "    case 9:\n",
    "        print(\"Nine\")\n",
    "    case _:\n",
    "        print(\"Enter a number between 0-9\")"
   ]
  },
  {
   "cell_type": "code",
   "execution_count": 17,
   "metadata": {},
   "outputs": [
    {
     "name": "stdout",
     "output_type": "stream",
     "text": [
      "Subtraction :  -1\n"
     ]
    }
   ],
   "source": [
    "#12 WAP to read two numbers and arithmetic operator [+,-,*,/,%] perform the operation and display the computed result.\n",
    "a = int(input(\"Enter 1st number:\"))\n",
    "b = int(input(\"Enter 2nd number:\"))\n",
    "c = input(\"Enter Arithmetic Operation (*,/,%,+,-) : \")\n",
    "if c=='+':\n",
    "    print(\"Addition : \",a+b)\n",
    "elif c=='-':\n",
    "    print(\"Subtraction : \",a-b)\n",
    "elif c=='*':\n",
    "    print(\"Multiplication : \",a*b)\n",
    "elif c=='/':\n",
    "    print(\"Division : \",a/b)\n",
    "elif c=='%':\n",
    "    print(\"Modulus : \",a%b)\n",
    "else:\n",
    "    print(\"Invalid Arithmetic Operation\")"
   ]
  },
  {
   "cell_type": "code",
   "execution_count": null,
   "metadata": {},
   "outputs": [],
   "source": [
    "#13.WAP to check whether a inputted character is uppercase or lowercase or digit or any other character.\n",
    "a=input(\"Enter Character or Number : \")\n",
    "b = ord(a)\n",
    "if 65 <= b <= 90:\n",
    "    print(\"Uppercase letter\")\n",
    "elif 97 <= b <= 122:\n",
    "    print(\"Lowercase letter\")\n",
    "elif 48 <= b <= 57:\n",
    "    print(\"Number\")\n",
    "else:\n",
    "    print(\"Special character\")"
   ]
  },
  {
   "cell_type": "code",
   "execution_count": null,
   "metadata": {},
   "outputs": [],
   "source": [
    "#14.Develop a number guessing game using loops and conditional statements. Ask user to guess a secret number. If user has not guessed correct number, provide him/her hint.\n",
    "from random import randint\n",
    "LOW, HIGH = 1, 100\n",
    "secret_number = randint (LOW, HIGH)\n",
    "while True:\n",
    "    guess = input(f\"Guess a number between {LOW} and {HIGH} \")\n",
    "    number = int(guess)\n",
    "    if number > secret_number:\n",
    "        print (f\"Secret Number is less than {number}\")\n",
    "    elif number < secret_number:\n",
    "        print(f\" Secret Number is greater than {number}\")\n",
    "    else:\n",
    "        break\n",
    "print(f\"You guessed it! The secret number is {number}\")"
   ]
  },
  {
   "cell_type": "code",
   "execution_count": 2,
   "metadata": {},
   "outputs": [
    {
     "name": "stdout",
     "output_type": "stream",
     "text": [
      "Enter correct username and password combo to continue\n",
      "Access granted\n"
     ]
    }
   ],
   "source": [
    "#15.WAP to prompt user to enter name and password until it enters \"stud\" in name and \"pass\" in password. Allow only five attempts\n",
    "print(\"Enter correct username and password combo to continue\")\n",
    "count = 0\n",
    "while count < 5:\n",
    "    name,pwd=input(\"Enter Name and password\").split()\n",
    "    if name == \"stud\" and pwd == \"pass\":\n",
    "        print(\"Access granted\")\n",
    "        break\n",
    "    else:\n",
    "        if count == 4:\n",
    "            print(\"Sorry, Attempts completed\")\n",
    "        else:\n",
    "            print(\"Access denied. Try Again\")\n",
    "        count+=1"
   ]
  },
  {
   "cell_type": "code",
   "execution_count": 3,
   "metadata": {},
   "outputs": [
    {
     "name": "stdout",
     "output_type": "stream",
     "text": [
      "15\n",
      "14\n",
      "13\n",
      "12\n",
      "11\n",
      "10\n",
      "9\n",
      "8\n",
      "7\n",
      "6\n",
      "5\n",
      "4\n",
      "3\n",
      "2\n",
      "1\n"
     ]
    }
   ],
   "source": [
    "#16.WAP to display numbers from 15 to 1 in descending order.\n",
    "for i in range(15, 0, -1):\n",
    "    print(i)"
   ]
  },
  {
   "cell_type": "code",
   "execution_count": 15,
   "metadata": {},
   "outputs": [
    {
     "name": "stdout",
     "output_type": "stream",
     "text": [
      "Sum of numbers from 11 to 200 is: 20045\n"
     ]
    }
   ],
   "source": [
    "#17.WAP to display sum of numbers from 11 to 200 using for loop.\n",
    "a = 0\n",
    "for i in range(11, 201):\n",
    "    a += i\n",
    "print(\"Sum of numbers from 11 to 200 is:\", a)\n",
    "    "
   ]
  },
  {
   "cell_type": "code",
   "execution_count": null,
   "metadata": {},
   "outputs": [],
   "source": [
    "#18.WAP to display average of numbers from 5 to 15 and 21 to 60.\n",
    "a = 0\n",
    "b = 0\n",
    "c = 0\n",
    "d = 0\n",
    "for i in range(5, 16):\n",
    "    a += i\n",
    "    b += 1\n",
    "for j in range(21, 61):\n",
    "    c += j\n",
    "    d += 1\n",
    "e = a + c\n",
    "f = b + d\n",
    "avg = e / f\n",
    "print(\"The average of numbers from 5 to 15 and 21 to 60 is:\", avg)"
   ]
  },
  {
   "cell_type": "code",
   "execution_count": null,
   "metadata": {},
   "outputs": [],
   "source": [
    "#19.WAP to display odd numbers from 5 to 30.\n",
    "for i in range(5, 31):\n",
    "    if i % 2 != 0:\n",
    "        print(i)"
   ]
  },
  {
   "cell_type": "code",
   "execution_count": null,
   "metadata": {},
   "outputs": [],
   "source": [
    "#20.WAP to find factorial of a number inputted by the user.\n",
    "a = int(input(\"Enter a number to calculate its factorial: \"))\n",
    "\n",
    "# with for loop\n",
    "b = 1\n",
    "for x in range(1, a + 1):\n",
    "    b *= x\n",
    "print(f\"Factorial of {a} is {b}\")"
   ]
  },
  {
   "cell_type": "code",
   "execution_count": null,
   "metadata": {},
   "outputs": [],
   "source": [
    "#21.WAP to find sum of digits of a int number.\n",
    "a = input(\"Enter an integer number: \")\n",
    "b = 0\n",
    "for i in a:\n",
    "    b += int(i)\n",
    "print(f\"The sum of the digits is: {b}\")"
   ]
  },
  {
   "cell_type": "code",
   "execution_count": null,
   "metadata": {},
   "outputs": [],
   "source": [
    "#22.WAP to display sum of even numbers between 30 and 50.\n",
    "a = 0\n",
    "for i in range(30, 51):\n",
    "    if i % 2 == 0:\n",
    "        a += i\n",
    "print(f\"The sum of even numbers between 30 and 50 is: {a}\")"
   ]
  },
  {
   "cell_type": "code",
   "execution_count": null,
   "metadata": {},
   "outputs": [],
   "source": [
    "#23.WAP to print multiplication table.\n",
    "a = int(input(\"Enter the number for the table: \"))\n",
    "sum=0\n",
    "for i in range(1, 11):\n",
    "    sum=a*i\n",
    "    print(f\"{a} x {i} = {sum}\")"
   ]
  },
  {
   "cell_type": "code",
   "execution_count": null,
   "metadata": {},
   "outputs": [],
   "source": [
    "#24.WAP to print the following patterns:\n",
    "rows = int(input(\"Enter the number for the table: \"))\n",
    "\n",
    "for i in range(1,rows + 1):\n",
    "    for j in range(1, i + 1):\n",
    "        print(i, end=\" \")\n",
    "    print()"
   ]
  },
  {
   "cell_type": "code",
   "execution_count": null,
   "metadata": {},
   "outputs": [],
   "source": [
    "#25.WAP to print pattern:\n",
    "rows = int(input(\"Enter the number for the table: \"))\n",
    "\n",
    "for i in range(1,rows + 1):\n",
    "    print('*' * i)\n",
    "for i in range(rows - 1, 0, -1):\n",
    "    print('*' * i)"
   ]
  },
  {
   "cell_type": "code",
   "execution_count": null,
   "metadata": {},
   "outputs": [],
   "source": [
    "#27.Write a program to find whether given number is an Armstrong Number\n",
    "n = int(input(\"Enter a number to check it is an Armstrong number or not\"))\n",
    "a = n // 100\n",
    "b = (n % 100) // 10\n",
    "c = n % 10\n",
    "if a**3 + b**3 + c**3 == n:\n",
    "  print(f\"{n} is Armstrong Number\")\n",
    "else:\n",
    "  print(f\"{n} is Not Armstrong Number\")\n"
   ]
  },
  {
   "cell_type": "code",
   "execution_count": null,
   "metadata": {},
   "outputs": [],
   "source": [
    "#28.WAP to generate the Fibonacci series up to n terms.\n",
    "n = int(input(\"Enter the number of terms: \"))\n",
    "a = 0\n",
    "b = 1\n",
    "print(a, end=\" \")\n",
    "print(b, end=\" \")\n",
    "for i in range(2, n):\n",
    "  c = a + b\n",
    "  print(c, end=\" \")\n",
    "  a = b\n",
    "  b = c "
   ]
  },
  {
   "cell_type": "code",
   "execution_count": null,
   "metadata": {},
   "outputs": [],
   "source": [
    "#29.Write a program that check whether a number is prime number or not.\n",
    "a = int(input(\"Enter a number: \"))\n",
    "\n",
    "if a > 1:\n",
    "    for i in range(2, int(a ** 0.5) + 1):\n",
    "        if a % i == 0:\n",
    "            print(f\"{a} is not a prime number.\")\n",
    "            break\n",
    "    else:\n",
    "        print(f\"{a} is a prime number.\")\n",
    "else:\n",
    "    print(f\"{a} is not a prime number.\")"
   ]
  },
  {
   "cell_type": "code",
   "execution_count": null,
   "metadata": {},
   "outputs": [],
   "source": [
    "#30.WAP to calculate sum and average of a given array: arr=(‘i’,[1,2,3,4,5])\n",
    "import array as arr\n",
    "arr = [1, 2, 3, 4, 5]\n",
    "total_sum = 0\n",
    "for num in arr:\n",
    "    total_sum += num\n",
    "average = total_sum / len(arr)\n",
    "\n",
    "print(f\"Sum: {total_sum}\")\n",
    "print(f\"Average: {average}\")"
   ]
  },
  {
   "cell_type": "code",
   "execution_count": null,
   "metadata": {},
   "outputs": [],
   "source": [
    "#31.Write a Python program to reverse the order of the items in the array.\n",
    "arr = [1, 2, 3, 4, 5]\n",
    "reversed_arr = list(reversed(arr))\n",
    "print(\"Reversed array using reversed():\", reversed_arr)"
   ]
  },
  {
   "cell_type": "code",
   "execution_count": null,
   "metadata": {},
   "outputs": [],
   "source": [
    "#32.Write a Python program to remove duplicate elements in a given array of integers\n",
    "arr = [1, 2, 3, 2, 4, 5, 5, 1]\n",
    "unique_arr = []\n",
    "\n",
    "for item in arr:\n",
    "    if item not in unique_arr:\n",
    "        unique_arr.append(item)\n",
    "\n",
    "print(\"Array after removing duplicates:\", unique_arr)"
   ]
  },
  {
   "cell_type": "code",
   "execution_count": null,
   "metadata": {},
   "outputs": [],
   "source": [
    "#33.Write a program that takes a string as input and prints it in reverse order.\n",
    "a = input(\"Enter a string: \")\n",
    "b = a[::-1]\n",
    "print(\"Reversed string:\", b)"
   ]
  },
  {
   "cell_type": "code",
   "execution_count": null,
   "metadata": {},
   "outputs": [],
   "source": [
    "#34.Write a program that counts the number of vowels in a given string.\n",
    "a = input(\"Enter a string: \")\n",
    "b = \"aeiouAEIOU\"\n",
    "c = 0\n",
    "for i in a:\n",
    "    if i in b:\n",
    "        c += 1\n",
    "print(f\"Number of vowels in the given string: in\", c)"
   ]
  },
  {
   "cell_type": "code",
   "execution_count": null,
   "metadata": {},
   "outputs": [],
   "source": [
    "#35.Write a program that checks if a given string is a palindrome (reads the same forwards and backwards).\n",
    "a = input(\"Enter a string: \")\n",
    "b = a[::-1]\n",
    "\n",
    "if a == b:\n",
    "    print(\"The string is a palindrome.\")\n",
    "else:\n",
    "    print(\"The string is not a palindrome.\")"
   ]
  },
  {
   "cell_type": "code",
   "execution_count": null,
   "metadata": {},
   "outputs": [],
   "source": [
    "#36.Write a program that removes duplicate characters from a string.\n",
    "a = input(\"Enter a string: \")\n",
    "b = \"\"  \n",
    "\n",
    "for c in a:\n",
    "    if c not in b:\n",
    "        b += c  \n",
    "\n",
    "print(\"String after removing duplicates:\", b)"
   ]
  },
  {
   "cell_type": "code",
   "execution_count": null,
   "metadata": {},
   "outputs": [],
   "source": [
    "#37.WAP to print even length words in string\n",
    "a = input(\"Enter a string: \")\n",
    "\n",
    "b = a.split()\n",
    "\n",
    "for c in b:\n",
    "    d = len(c)\n",
    "    if d % 2 == 0:\n",
    "        print(c)\n",
    "\n",
    "#input given is \"Hello world this is a test\""
   ]
  },
  {
   "cell_type": "code",
   "execution_count": null,
   "metadata": {},
   "outputs": [],
   "source": [
    "#38.WAP to remove spaces from given string:\n",
    "#“Python is very easy”\n",
    "a = \"Python is very easy\"\n",
    "b = a.split()\n",
    "c = ''.join(b)\n",
    "print(c)"
   ]
  },
  {
   "cell_type": "code",
   "execution_count": null,
   "metadata": {},
   "outputs": [],
   "source": [
    "#39.WAP to convert given list of ASCII value to string. [65, 66, 67, 68, 69]\n",
    "a = [65, 66, 67, 68, 69]\n",
    "b = \"\"\n",
    "\n",
    "for c in a:\n",
    "    d = chr(c)\n",
    "    b += d\n",
    "\n",
    "print(b)"
   ]
  },
  {
   "cell_type": "code",
   "execution_count": 3,
   "metadata": {},
   "outputs": [
    {
     "name": "stdout",
     "output_type": "stream",
     "text": [
      "h-e-l-l-o\n"
     ]
    }
   ],
   "source": [
    "#40. WAP to print the individual characters of the string inputted by user in the following way\n",
    "#Example: H—e—l—l—o\n",
    "\n",
    "a = input(\"Enter a string: \")\n",
    "b = \"\"\n",
    "\n",
    "for c in a:\n",
    "    b += c + \"-\"\n",
    "\n",
    "b = b[:-1]\n",
    "print(b)"
   ]
  }
 ],
 "metadata": {
  "kernelspec": {
   "display_name": "Python 3",
   "language": "python",
   "name": "python3"
  },
  "language_info": {
   "codemirror_mode": {
    "name": "ipython",
    "version": 3
   },
   "file_extension": ".py",
   "mimetype": "text/x-python",
   "name": "python",
   "nbconvert_exporter": "python",
   "pygments_lexer": "ipython3",
   "version": "3.12.6"
  }
 },
 "nbformat": 4,
 "nbformat_minor": 2
}
